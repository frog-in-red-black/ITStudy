{
 "cells": [
  {
   "cell_type": "code",
   "execution_count": 12,
   "metadata": {},
   "outputs": [],
   "source": [
    "import requests\n",
    "from lxml import etree\n",
    "\n",
    "class WeiboSpide(object):\n",
    "    def __init__(self):\n",
    "        self.base_url='https://weibo.cn/search/mblog?hideSearchFrame=&keyword=%40%E6%9B%BC%E8%81%94%E8%B6%B3%E7%90%83%E4%BF%B1%E4%B9%90%E9%83%A8&advancedfilter=1&hasori=1&starttime=20180101&endtime=20201014&sort=time&page={}'\n",
    "        self.headers={\n",
    "            'User-Agent': 'Mozilla/5.0 (Macintosh; Intel Mac OS X 10_15_4) AppleWebKit/537.36 (KHTML, like Gecko) Chrome/85.0.4183.83 Safari/537.36',\n",
    "            'cookie':'_T_WM=82541212083; SUBP=0033WrSXqPxfM725Ws9jqgMF55529P9D9WhRYbu-iap-59wJkffr.Lfo5NHD95QNSh-pSoMpShqcWs4Dqc_5i--4iKL2iK.4i--NiKLhiKyFi--Xi-iWiK.pi--fiKy2i-zNi--Xi-iWiK.pi--RiKnRiK.EPEH8SFHFxF-4Bntt; SCF=ArZtPKcOAonI0vX4JchFpFMxlHiUY3z3_7AmQYjgSquclhFJI0ZWgpnhQobDdsQu993hkSGnt9UT3bmNkB9VRAU.; SUB=_2A25yeoxxDeRhGeFK7lMX9y_IzTqIHXVRhBQ5rDV6PUJbktAKLVKnkW1NQ1p-3Hx64ZjBqClrenBI9NTqqlYFP1sv; SUHB=0jBINLJ-2DN9J7; SSOLoginState=1602157601'\n",
    "        }\n",
    "        \n",
    "        self.search_form_data={    \n",
    "            'keyword': '@曼联足球俱乐部',    \n",
    "            'smblog':' 搜微博'\n",
    "        }\n",
    "#1.1拼接字符串\n",
    "    def concat_url(self,page):\n",
    "        url=self.base_url.format(page)\n",
    "        return url\n",
    "#1.2发请求\n",
    "    def get_response(self,url):\n",
    "        response=requests.post(url,headers=self.headers,data=self.search_form_data)\n",
    "        data=response.content.decode()\n",
    "        return data\n",
    "\n",
    "#2.解析数据\n",
    "    def parse_data(self,data):\n",
    "        x_data=etree.HTML(data)\n",
    "        result=x_data.xpath('//span[@class=\"ctt\"]//text()')\n",
    "        pass\n",
    "        \n",
    "#3.保存数据\n",
    "    def save_data(self,data):\n",
    "        with open('weibo.html','w') as f:\n",
    "            f.write(data)\n",
    "#4.启动方法\n",
    "    def run(self,page):\n",
    "        #1.拼接url\n",
    "        url=self.concat_url(page)\n",
    "        #2.发送请求\n",
    "        data=self.get_response(url)\n",
    "        #3.解析\n",
    "        #4.保存\n",
    "        self.save_data(data)\n"
   ]
  },
  {
   "cell_type": "code",
   "execution_count": 14,
   "metadata": {},
   "outputs": [],
   "source": [
    "WeiboSpide().run(2)"
   ]
  },
  {
   "cell_type": "code",
   "execution_count": null,
   "metadata": {},
   "outputs": [],
   "source": []
  }
 ],
 "metadata": {
  "kernelspec": {
   "display_name": "Python 3",
   "language": "python",
   "name": "python3"
  },
  "language_info": {
   "codemirror_mode": {
    "name": "ipython",
    "version": 3
   },
   "file_extension": ".py",
   "mimetype": "text/x-python",
   "name": "python",
   "nbconvert_exporter": "python",
   "pygments_lexer": "ipython3",
   "version": "3.7.6"
  }
 },
 "nbformat": 4,
 "nbformat_minor": 4
}
