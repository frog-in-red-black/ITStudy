{
 "cells": [
  {
   "cell_type": "code",
   "execution_count": 116,
   "metadata": {},
   "outputs": [],
   "source": [
    "import requests\n",
    "from lxml import etree\n",
    "\n",
    "class WeiboSpider(object):\n",
    "    def __init__(self):\n",
    "        self.base_url='https://weibo.cn/search/mblog?hideSearchFrame=&keyword=%40%E6%9B%BC%E8%81%94%E8%B6%B3%E7%90%83%E4%BF%B1%E4%B9%90%E9%83%A8&advancedfilter=1&hasori=1&starttime=20200808&endtime={}&sort=time&page={}'\n",
    "        self.headers={\n",
    "            'User-Agent': 'Mozilla/5.0 (Macintosh; Intel Mac OS X 10_15_4) AppleWebKit/537.36 (KHTML, like Gecko) Chrome/85.0.4183.83 Safari/537.36',\n",
    "            'cookie':'_T_WM=82541212083; SUBP=0033WrSXqPxfM725Ws9jqgMF55529P9D9WhRYbu-iap-59wJkffr.Lfo5NHD95QNSh-pSoMpShqcWs4Dqc_5i--4iKL2iK.4i--NiKLhiKyFi--Xi-iWiK.pi--fiKy2i-zNi--Xi-iWiK.pi--RiKnRiK.EPEH8SFHFxF-4Bntt; SCF=ArZtPKcOAonI0vX4JchFpFMxlHiUY3z3_7AmQYjgSquclhFJI0ZWgpnhQobDdsQu993hkSGnt9UT3bmNkB9VRAU.; SUB=_2A25yeoxxDeRhGeFK7lMX9y_IzTqIHXVRhBQ5rDV6PUJbktAKLVKnkW1NQ1p-3Hx64ZjBqClrenBI9NTqqlYFP1sv; SUHB=0jBINLJ-2DN9J7; SSOLoginState=1602157601'\n",
    "        }\n",
    "        \n",
    "        self.search_form_data={    \n",
    "            'keyword': '@曼联足球俱乐部',    \n",
    "            'smblog':' 搜微博'\n",
    "        }\n",
    "        self.data_list=[]\n",
    "#1.1拼接字符串\n",
    "    def concat_url(self,end_time,page):\n",
    "        \n",
    "        url=self.base_url.format(end_time,page)\n",
    "        \n",
    "        return url\n",
    "#1.2发请求\n",
    "    def get_response(self,url):\n",
    "        response=requests.post(url,headers=self.headers,data=self.search_form_data)\n",
    "        data=response.content\n",
    "        #print(data)\n",
    "        return data\n",
    "\n",
    "#2.解析数据\n",
    "    def parse_data(self,data):\n",
    "        x_data=etree.HTML(data)\n",
    "        result=x_data.xpath('//span[@class=\"ctt\"]//text()')\n",
    "        print(type(result))\n",
    "        return result\n",
    "#3.拼接数据\n",
    "    def concat_data(self,result):\n",
    "        \n",
    "        try:\n",
    "            self.data_list.extend(result)\n",
    "        except Exception as e:\n",
    "            print(e)\n",
    "        return data_list\n",
    "        \n",
    "#4.保存数据\n",
    "    def save_data(self,data_list):\n",
    "            \n",
    "        with open('weibo{}.txt'.format(self.search_form_data['keyword']),'w') as f:\n",
    "            for value in data_list:\n",
    "                f.write(str(value))\n",
    "#5.启动方法\n",
    "    def run(self,end_time,page):\n",
    "        \n",
    "        #1.拼接url并翻页\n",
    "        for i in range(1,page+1):\n",
    "            url=self.concat_url(end_time,i)\n",
    "            #print(url)\n",
    "        #2.发送请求\n",
    "            data=self.get_response(url)\n",
    "        #3.解析\n",
    "            result=self.parse_data(data)\n",
    "        #3.拼接\n",
    "            self.concat_data(result)\n",
    "        \n",
    "        \n",
    "        #4.保存\n",
    "        self.save_data(self.data_list)\n",
    "            \n"
   ]
  },
  {
   "cell_type": "code",
   "execution_count": 118,
   "metadata": {},
   "outputs": [
    {
     "name": "stdout",
     "output_type": "stream",
     "text": [
      "<class 'list'>\n",
      "<class 'list'>\n",
      "<class 'list'>\n"
     ]
    }
   ],
   "source": [
    "WeiboSpider().run(20200930,3)"
   ]
  },
  {
   "cell_type": "code",
   "execution_count": null,
   "metadata": {},
   "outputs": [],
   "source": []
  }
 ],
 "metadata": {
  "kernelspec": {
   "display_name": "Python 3",
   "language": "python",
   "name": "python3"
  },
  "language_info": {
   "codemirror_mode": {
    "name": "ipython",
    "version": 3
   },
   "file_extension": ".py",
   "mimetype": "text/x-python",
   "name": "python",
   "nbconvert_exporter": "python",
   "pygments_lexer": "ipython3",
   "version": "3.7.6"
  }
 },
 "nbformat": 4,
 "nbformat_minor": 4
}
